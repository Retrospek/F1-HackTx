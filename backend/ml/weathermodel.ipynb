{
 "cells": [
  {
   "cell_type": "markdown",
   "id": "c5f3e380",
   "metadata": {},
   "source": [
    "Import Libs"
   ]
  },
  {
   "cell_type": "code",
   "execution_count": null,
   "id": "e01acf74",
   "metadata": {},
   "outputs": [],
   "source": [
    "import torch\n",
    "import torch.nn as nn\n",
    "import torch.optim as optim\n",
    "\n",
    "import numpy as np\n",
    "import pandas as pd\n",
    "\n",
    "from joblib import dump, load\n",
    "\n",
    "\n",
    "from datetime import datetime\n",
    "\n",
    "import sklearn\n",
    "from sklearn.linear_model import LogisticRegression\n",
    "from sklearn.model_selection import train_test_split\n",
    "from sklearn.metrics import f1_score, accuracy_score, confusion_matrix, classification_report"
   ]
  },
  {
   "cell_type": "code",
   "execution_count": 35,
   "id": "ff707fc0",
   "metadata": {},
   "outputs": [
    {
     "data": {
      "text/plain": [
       "Index(['timestamp', 'season', 'driver', 'lap_number', 'position',\n",
       "       'interval_gap', 'flag_status', 'incident_message', 'lap_time',\n",
       "       'push_signal', 'tyre_compound', 'stint_lap_count', 'tyre_wear_pct',\n",
       "       'tyre_temp_C', 'engine_power_pct', 'throttle_pct', 'speed_kph',\n",
       "       'drs_status', 'weather_condition', 'rainfall_mm', 'air_temperature_C',\n",
       "       'fuel_load_kg'],\n",
       "      dtype='object')"
      ]
     },
     "execution_count": 35,
     "metadata": {},
     "output_type": "execute_result"
    }
   ],
   "source": [
    "cotaData = pd.read_csv(r\"C:\\Users\\lordw\\OneDrive\\Documents\\ML\\MLprojects\\F1hackTx\\backend\\data\\mercedes_cota_2022_2024.csv\")\n",
    "cotaData.columns"
   ]
  },
  {
   "cell_type": "code",
   "execution_count": 36,
   "id": "89f3d6a9",
   "metadata": {},
   "outputs": [],
   "source": [
    "cotaData['timestamp'] = pd.to_datetime(cotaData['timestamp'])\n",
    "cotaData = cotaData.sort_values('timestamp').reset_index(drop=True)"
   ]
  },
  {
   "cell_type": "code",
   "execution_count": 37,
   "id": "65a05c86",
   "metadata": {},
   "outputs": [
    {
     "name": "stdout",
     "output_type": "stream",
     "text": [
      "Accuracy: 1.0\n",
      "F1 score: 0.0\n",
      "Confusion matrix:\n",
      " [[64]]\n",
      "Train class distribution: [226  27]\n",
      "Test class distribution: [64]\n"
     ]
    },
    {
     "name": "stderr",
     "output_type": "stream",
     "text": [
      "c:\\Users\\lordw\\OneDrive\\Documents\\ML\\MLprojects\\F1hackTx\\venv\\Lib\\site-packages\\sklearn\\metrics\\_classification.py:1731: UndefinedMetricWarning: F-score is ill-defined and being set to 0.0 due to no true nor predicted samples. Use `zero_division` parameter to control this behavior.\n",
      "  _warn_prf(average, modifier, f\"{metric.capitalize()} is\", result.shape[0])\n",
      "c:\\Users\\lordw\\OneDrive\\Documents\\ML\\MLprojects\\F1hackTx\\venv\\Lib\\site-packages\\sklearn\\metrics\\_classification.py:534: UserWarning: A single label was found in 'y_true' and 'y_pred'. For the confusion matrix to have the correct shape, use the 'labels' parameter to pass all known labels.\n",
      "  warnings.warn(\n"
     ]
    }
   ],
   "source": [
    "# --- Step 0: Ensure binary target ---\n",
    "# Convert rainfall_mm to 0/1\n",
    "cotaData['rain_binary'] = (cotaData['rainfall_mm'] > 0).astype(int)\n",
    "\n",
    "# --- Parameters ---\n",
    "window_size = 10      # number of laps in your window\n",
    "lag = 10              # how many laps ahead to predict\n",
    "rain_col = 'rain_binary'\n",
    "predictor_cols = ['rainfall_mm', 'air_temperature_C']\n",
    "\n",
    "features = []\n",
    "targets = []\n",
    "\n",
    "# --- Build windowed features and targets ---\n",
    "for i in range(len(cotaData) - window_size - lag + 1):\n",
    "    # Current window\n",
    "    window_start = i\n",
    "    window_end = i + window_size\n",
    "    window = cotaData.iloc[window_start:window_end]\n",
    "    \n",
    "    # Flatten features across the window\n",
    "    X_window = window[predictor_cols].values.flatten()\n",
    "    \n",
    "    # Target: rain 10 laps ahead\n",
    "    target_idx = window_end + lag - 1\n",
    "    y_window = cotaData.iloc[target_idx][rain_col]\n",
    "    \n",
    "    features.append(X_window)\n",
    "    targets.append(y_window)\n",
    "\n",
    "X = np.array(features)\n",
    "y = np.array(targets)\n",
    "\n",
    "# --- Train/test split (time series aware) ---\n",
    "X_train, X_test, y_train, y_test = train_test_split(X, y, test_size=0.2, shuffle=False)\n",
    "\n",
    "# --- Fit Logistic Regression ---\n",
    "model = LogisticRegression(max_iter=500)\n",
    "model.fit(X_train, y_train)\n",
    "\n",
    "# --- Predictions ---\n",
    "y_pred = model.predict(X_test)\n",
    "print(\"Accuracy:\", accuracy_score(y_test, y_pred))\n",
    "print(\"F1 score:\", f1_score(y_test, y_pred))\n",
    "print(\"Confusion matrix:\\n\", confusion_matrix(y_test, y_pred))\n",
    "# --- Optional: class distribution check ---\n",
    "print(\"Train class distribution:\", np.bincount(y_train))\n",
    "print(\"Test class distribution:\", np.bincount(y_test))"
   ]
  },
  {
   "cell_type": "code",
   "execution_count": null,
   "id": "e5b06bf2",
   "metadata": {},
   "outputs": [],
   "source": [
    "# Save the model\n",
    "dump(model, 'logistic_model.joblib')"
   ]
  }
 ],
 "metadata": {
  "kernelspec": {
   "display_name": "venv",
   "language": "python",
   "name": "python3"
  },
  "language_info": {
   "codemirror_mode": {
    "name": "ipython",
    "version": 3
   },
   "file_extension": ".py",
   "mimetype": "text/x-python",
   "name": "python",
   "nbconvert_exporter": "python",
   "pygments_lexer": "ipython3",
   "version": "3.12.10"
  }
 },
 "nbformat": 4,
 "nbformat_minor": 5
}
